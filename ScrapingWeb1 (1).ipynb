{
 "cells": [
  {
   "cell_type": "markdown",
   "metadata": {},
   "source": [
    "# ScrapingWeb BeutifulSoup Library"
   ]
  },
  {
   "cell_type": "code",
   "execution_count": 9,
   "metadata": {},
   "outputs": [],
   "source": [
    "import requests\n",
    "from bs4 import BeautifulSoup\n",
    "\n",
    "def main():\n",
    "    #address on weather canada to get the weather forecast for the city of Montreal\n",
    "    adresse=\"https://meteo.gc.ca/city/pages/qc-147_metric_f.html\"\n",
    "    html = get_html_from_url(adresse )\n",
    "    #print(\"=\" * 50)\n",
    "    \n",
    "    #Display the title obtained from the page\n",
    "    report = get_meteo_from_htmlpage(html)\n",
    "    #print(\"=\" * 50)\n",
    "\n",
    "    print('Condition météo: {} \\n Location:{} \\n Temperature:{}'.format(\n",
    "        report[0] ,report[1], report[2]\n",
    "    ))"
   ]
  },
  {
   "cell_type": "code",
   "execution_count": 6,
   "metadata": {},
   "outputs": [],
   "source": [
    "def get_html_from_url(adresse):\n",
    "    \n",
    "    response = requests.get(adresse).content\n",
    "    # Analizar contenido HTML\n",
    "    soup =  BeautifulSoup(response, \"html.parser\")\n",
    "    print(\"=\" * 50)\n",
    "    print(soup.title.get_text())\n",
    "    print(\"=\" * 50)\n",
    "    return soup"
   ]
  },
  {
   "cell_type": "code",
   "execution_count": 7,
   "metadata": {},
   "outputs": [],
   "source": [
    "def get_meteo_from_htmlpage(html):\n",
    "    prevision = html.find(\"dd\", attrs={\"id\": \"forecast\"})\n",
    "    location = html.find(\"h1\", attrs={\"id\": \"wb-cont\"})\n",
    "    temperature = html.find(\"span\", attrs={\"class\": \"wxo-metric-hide\"})\n",
    "\n",
    "    if prevision is not None and location is not None and temperature is not None:\n",
    "        report = (prevision.get_text(), location.get_text(), temperature.get_text())\n",
    "    else:\n",
    "        # Manejo de casos en los que los elementos no se encuentran\n",
    "        report = (\"N/A\", \"N/A\", \"N/A\")\n",
    "    \n",
    "    return report\n"
   ]
  },
  {
   "cell_type": "code",
   "execution_count": 3,
   "metadata": {},
   "outputs": [],
   "source": [
    "#def get_meteo_from_htmlpage(html):\n",
    "    #prevision = html.find(\"tr\",attrs={\"class\": \"pdg-tp-0\"})\n",
    "    #location= html.find(\"h1\",attrs={\"id\": \"wb-cont\"})\n",
    "    #temperature = html.find(\"span\",attrs={\"class\": \"wxo-metric-hide\"})\n",
    "    #report = (prevision.get_text(),location.get_text(), temperature.get_text())\n",
    "    #return report"
   ]
  },
  {
   "cell_type": "code",
   "execution_count": 8,
   "metadata": {},
   "outputs": [
    {
     "name": "stdout",
     "output_type": "stream",
     "text": [
      "==================================================\n",
      "Montréal, QC - Prévision 7 jours - Environnement Canada\n",
      "==================================================\n",
      "Condition météo: N/A \n",
      " Location:N/A \n",
      " Temperature:N/A\n"
     ]
    }
   ],
   "source": [
    "if __name__ == '__main__':\n",
    "    main()"
   ]
  },
  {
   "cell_type": "code",
   "execution_count": null,
   "metadata": {},
   "outputs": [],
   "source": []
  }
 ],
 "metadata": {
  "kernelspec": {
   "display_name": "Python 3 (ipykernel)",
   "language": "python",
   "name": "python3"
  },
  "language_info": {
   "codemirror_mode": {
    "name": "ipython",
    "version": 3
   },
   "file_extension": ".py",
   "mimetype": "text/x-python",
   "name": "python",
   "nbconvert_exporter": "python",
   "pygments_lexer": "ipython3",
   "version": "3.11.3"
  }
 },
 "nbformat": 4,
 "nbformat_minor": 4
}
